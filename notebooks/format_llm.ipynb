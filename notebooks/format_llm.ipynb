{
 "cells": [
  {
   "cell_type": "markdown",
   "id": "eec47359-901c-429b-bb05-83b8980496c7",
   "metadata": {},
   "source": [
    "### 検索ワード案\n",
    "- format, LLM\n",
    "  - format だと、 informationも引っかかるかも\n",
    "- tune data format"
   ]
  },
  {
   "cell_type": "code",
   "execution_count": 29,
   "id": "ce39189c-3b63-4b94-951c-5b026778984e",
   "metadata": {},
   "outputs": [],
   "source": [
    "import arxiv\n",
    "import pandas as pd\n",
    "\n",
    "search = arxiv.Search(\n",
    "    # filter by containing \"acl\" in comment\n",
    "    # cannot filter by \"co:acl+2023\"\n",
    "    query = \"cat:cs.CL AND abs:'formats'\",\n",
    "    max_results = 100,\n",
    "    sort_by = arxiv.SortCriterion.SubmittedDate,\n",
    ")\n",
    "\n",
    "papers = []\n",
    "for result in search.results():\n",
    "    names = []\n",
    "    for author in result.authors:\n",
    "        names.append(author.name)\n",
    "    authors = \", \".join(names)\n",
    "    summary = result.summary.replace(\"\\n\", \" \")\n",
    "    paper = [\n",
    "        result.entry_id,\n",
    "        result.updated,\n",
    "        result.published,\n",
    "        result.title,\n",
    "        summary,\n",
    "        result.comment,\n",
    "        result.primary_category,\n",
    "        authors,\n",
    "    ]\n",
    "    papers.append(paper)"
   ]
  },
  {
   "cell_type": "code",
   "execution_count": 30,
   "id": "6fe0ecae-ccd0-461c-a1f6-921974fba1b4",
   "metadata": {},
   "outputs": [
    {
     "data": {
      "text/plain": [
       "['http://arxiv.org/abs/2210.02441v3',\n",
       " datetime.datetime(2022, 11, 20, 0, 7, 6, tzinfo=datetime.timezone.utc),\n",
       " datetime.datetime(2022, 10, 5, 17, 59, 45, tzinfo=datetime.timezone.utc),\n",
       " 'Ask Me Anything: A simple strategy for prompting language models',\n",
       " 'Large language models (LLMs) transfer well to new tasks out-of-the-box simply given a natural language prompt that demonstrates how to perform the task and no additional training. Prompting is a brittle process wherein small modifications to the prompt can cause large variations in the model predictions, and therefore significant effort is dedicated towards designing a painstakingly \"perfect prompt\" for a task. To mitigate the high degree of effort involved in prompt-design, we instead ask whether producing multiple effective, yet imperfect, prompts and aggregating them can lead to a high quality prompting strategy. Our observations motivate our proposed prompting method, ASK ME ANYTHING (AMA). We first develop an understanding of the effective prompt formats, finding that question-answering (QA) prompts, which encourage open-ended generation (\"Who went to the park?\") tend to outperform those that restrict the model outputs (\"John went to the park. Output True or False.\"). Our approach recursively uses the LLM itself to transform task inputs to the effective QA format. We apply the collected prompts to obtain several noisy votes for the input\\'s true label. We find that the prompts can have very different accuracies and complex dependencies and thus propose to use weak supervision, a procedure for combining the noisy predictions, to produce the final predictions for the inputs. We evaluate AMA across open-source model families (e.g., EleutherAI, BLOOM, OPT, and T0) and model sizes (125M-175B parameters), demonstrating an average performance lift of 10.2% over the few-shot baseline. This simple strategy enables the open-source GPT-J-6B model to match and exceed the performance of few-shot GPT3-175B on 15 of 20 popular benchmarks. Averaged across these tasks, the GPT-J-6B model outperforms few-shot GPT3-175B. We release our code here: https://github.com/HazyResearch/ama_prompting',\n",
       " None,\n",
       " 'cs.CL',\n",
       " 'Simran Arora, Avanika Narayan, Mayee F. Chen, Laurel Orr, Neel Guha, Kush Bhatia, Ines Chami, Frederic Sala, Christopher Ré']"
      ]
     },
     "execution_count": 30,
     "metadata": {},
     "output_type": "execute_result"
    }
   ],
   "source": [
    "paper"
   ]
  },
  {
   "cell_type": "code",
   "execution_count": 27,
   "id": "516dae93-67a0-48e5-a8d2-1269cd543b78",
   "metadata": {},
   "outputs": [],
   "source": [
    "for paper in papers:\n",
    "    print(paper[3])"
   ]
  },
  {
   "cell_type": "code",
   "execution_count": 25,
   "id": "60551b33-cb97-4d44-b0e1-6daf21f5a305",
   "metadata": {},
   "outputs": [],
   "source": [
    "cols = [\"entry_id\", \"updated\", \"published\", \"title\", \"summary\", \"comment\", \"primary_category\", \"authors\",]\n",
    "\n",
    "df = pd.DataFrame(papers, columns=cols)\n",
    "df.to_csv(\"output_format.csv\")"
   ]
  },
  {
   "cell_type": "code",
   "execution_count": null,
   "id": "5d9c03aa-a711-402d-a1bd-53f842d7fb6d",
   "metadata": {},
   "outputs": [],
   "source": []
  }
 ],
 "metadata": {
  "kernelspec": {
   "display_name": "Python 3 (ipykernel)",
   "language": "python",
   "name": "python3"
  },
  "language_info": {
   "codemirror_mode": {
    "name": "ipython",
    "version": 3
   },
   "file_extension": ".py",
   "mimetype": "text/x-python",
   "name": "python",
   "nbconvert_exporter": "python",
   "pygments_lexer": "ipython3",
   "version": "3.11.4"
  }
 },
 "nbformat": 4,
 "nbformat_minor": 5
}
